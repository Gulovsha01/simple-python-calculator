{
 "cells": [
  {
   "cell_type": "markdown",
   "id": "4e395c22",
   "metadata": {},
   "source": [
    "## Simple Calculator "
   ]
  },
  {
   "cell_type": "code",
   "execution_count": 1,
   "id": "fd4d8cb0",
   "metadata": {},
   "outputs": [
    {
     "name": "stdout",
     "output_type": "stream",
     "text": [
      "Welcome to the simple calculator!\n",
      "Operations:\n",
      "1. Addition (+)\n",
      "2. Subtraction (-)\n",
      "3. Multiplication (*)\n",
      "4. Division (/)\n",
      "Enter 0 to quit.\n",
      "Result: 9.0\n",
      "Thank you for using the calculator. Goodbye!\n"
     ]
    }
   ],
   "source": [
    "def addition(x, y):\n",
    "    return x + y\n",
    "\n",
    "def subtract(x, y):\n",
    "    return x - y\n",
    "\n",
    "def multiply(x, y):\n",
    "    return x * y\n",
    "\n",
    "def divide(x, y):\n",
    "    if y == 0:\n",
    "        return 'It cannot be divided to 0'\n",
    "    return x / y\n",
    "\n",
    "def calculator():\n",
    "    print('Welcome to the simple calculator!')\n",
    "    print('Operations:')\n",
    "    print('1. Addition (+)')\n",
    "    print('2. Subtraction (-)')\n",
    "    print('3. Multiplication (*)')\n",
    "    print('4. Division (/)')\n",
    "    print('Enter 0 to quit.')\n",
    "\n",
    "    while True:\n",
    "        try:\n",
    "            choice = int(input('\\nEnter your choice (1-4), or 0 to quit: '))\n",
    "        except ValueError:\n",
    "            print('Invalid input! Please enter a number between 0 and 4.')\n",
    "            continue\n",
    "\n",
    "        if choice == 0:\n",
    "            print('Thank you for using the calculator. Goodbye!')\n",
    "            break\n",
    "        if choice not in [1, 2, 3, 4]:\n",
    "            print('Invalid choice! Try again!')\n",
    "            continue\n",
    "\n",
    "        try:\n",
    "            num1 = float(input('Enter the first number: '))\n",
    "            num2 = float(input('Enter the second number: '))\n",
    "        except ValueError:\n",
    "            print('Invalid input! Please enter numeric values.')\n",
    "            continue\n",
    "\n",
    "        if choice == 1:\n",
    "            print('Result:', addition(num1, num2))\n",
    "        elif choice == 2:\n",
    "            print('Result:', subtract(num1, num2))\n",
    "        elif choice == 3:\n",
    "            print('Result:', multiply(num1, num2))\n",
    "        elif choice == 4:\n",
    "            print('Result:', divide(num1, num2))\n",
    "\n",
    "calculator()\n"
   ]
  },
  {
   "cell_type": "code",
   "execution_count": null,
   "id": "a7dbefb8",
   "metadata": {},
   "outputs": [],
   "source": []
  }
 ],
 "metadata": {
  "kernelspec": {
   "display_name": "base",
   "language": "python",
   "name": "python3"
  },
  "language_info": {
   "codemirror_mode": {
    "name": "ipython",
    "version": 3
   },
   "file_extension": ".py",
   "mimetype": "text/x-python",
   "name": "python",
   "nbconvert_exporter": "python",
   "pygments_lexer": "ipython3",
   "version": "3.12.7"
  }
 },
 "nbformat": 4,
 "nbformat_minor": 5
}
